{
 "cells": [
  {
   "cell_type": "code",
   "execution_count": 1,
   "metadata": {},
   "outputs": [],
   "source": [
    "# 讀取歌詞\n",
    "lyrics = open('lyrics.txt').readlines()"
   ]
  },
  {
   "cell_type": "code",
   "execution_count": 2,
   "metadata": {},
   "outputs": [
    {
     "name": "stdout",
     "output_type": "stream",
     "text": [
      "['<p class=“lyrics”>\\n', '                作詞：國蛋 GorDoN\\xa0\\xa0\\xa0\\n', '                作曲：國蛋 GorDoN<br/>\\n', '<br/>\\n', '就像我告訴自己我很酷<br/>\\n', '又像我剛認識妳那時候 妳的笑沒忍住<br/>\\n', '也像我剛開始懂事  剛開始有感觸<br/>\\n', '在某種天分受到啟發剛開始嶄露的那個年紀<br/>\\n', '每天都試著跟妳聯繫<br/>\\n', '聽見妳聲音就能維持這種甜蜜<br/>\\n']\n"
     ]
    }
   ],
   "source": [
    "# print lyrics\n",
    "print(lyrics[:10])"
   ]
  },
  {
   "cell_type": "code",
   "execution_count": 3,
   "metadata": {},
   "outputs": [],
   "source": [
    "# 去除歌詞中不屬於歌詞的詞\n",
    "for i in range(len(lyrics)):\n",
    "    line = lyrics[i]\n",
    "    if \"作詞\" in line or \"作曲\" in line or \"編曲\" in line or \"錄音\" in line or \"混缩\" in line or \"制作人\" in line:\n",
    "        lyrics[i] = ''"
   ]
  },
  {
   "cell_type": "code",
   "execution_count": 4,
   "metadata": {},
   "outputs": [
    {
     "name": "stdout",
     "output_type": "stream",
     "text": [
      "['<p class=“lyrics”>\\n', '', '', '<br/>\\n', '就像我告訴自己我很酷<br/>\\n', '又像我剛認識妳那時候 妳的笑沒忍住<br/>\\n', '也像我剛開始懂事  剛開始有感觸<br/>\\n', '在某種天分受到啟發剛開始嶄露的那個年紀<br/>\\n', '每天都試著跟妳聯繫<br/>\\n', '聽見妳聲音就能維持這種甜蜜<br/>\\n', '妳拉我走出深淵能夠繼續前進<br/>\\n', '我跟在妳的身後香味舒緩神經<br/>\\n', '<br/>\\n', '像妳所說的至理名言我都記住<br/>\\n', '像所托付的是我 不讓妳受欺負<br/>\\n', '像妳要我表現自我<br/>\\n', '赤裸表達赤裸 儘管字醜<br/>\\n', '也寫下過錯像自首 妳說是否<br/>\\n', '<br/>\\n', '多麼忘我 接近解脫<br/>\\n']\n"
     ]
    }
   ],
   "source": [
    "print(lyrics[:20])"
   ]
  },
  {
   "cell_type": "code",
   "execution_count": 5,
   "metadata": {},
   "outputs": [],
   "source": [
    "# re 正規表達\n",
    "# 中文（簡/繁體）在unicode中是u4e00~u9fa5\n",
    "import re\n",
    "\n",
    "final_lrc = []\n",
    "\n",
    "zhPattern = re.compile(u'[\\u4e00-\\u9fa5]+')\n",
    "\n",
    "# for所有歌詞\n",
    "for line in lyrics:\n",
    "   # findall會返回一個列表\n",
    "   zh_list = zhPattern.findall(line)\n",
    "   # 將中文拷貝到 final_lrc 中去\n",
    "   for item in zh_list:\n",
    "        final_lrc.append(item + '\\n')"
   ]
  },
  {
   "cell_type": "code",
   "execution_count": 6,
   "metadata": {},
   "outputs": [
    {
     "name": "stdout",
     "output_type": "stream",
     "text": [
      "['就像我告訴自己我很酷\\n', '又像我剛認識妳那時候\\n', '妳的笑沒忍住\\n', '也像我剛開始懂事\\n', '剛開始有感觸\\n', '在某種天分受到啟發剛開始嶄露的那個年紀\\n', '每天都試著跟妳聯繫\\n', '聽見妳聲音就能維持這種甜蜜\\n', '妳拉我走出深淵能夠繼續前進\\n', '我跟在妳的身後香味舒緩神經\\n']\n"
     ]
    }
   ],
   "source": [
    "# print final_lrc\n",
    "print(final_lrc[:10])"
   ]
  },
  {
   "cell_type": "code",
   "execution_count": 7,
   "metadata": {},
   "outputs": [
    {
     "name": "stdout",
     "output_type": "stream",
     "text": [
      "31709\n"
     ]
    }
   ],
   "source": [
    "# final_lrc 總歌詞行數\n",
    "print(len(final_lrc))"
   ]
  },
  {
   "cell_type": "code",
   "execution_count": 8,
   "metadata": {},
   "outputs": [
    {
     "name": "stderr",
     "output_type": "stream",
     "text": [
      "Building prefix dict from the default dictionary ...\n",
      "Loading model from cache /var/folders/dp/9mvw_zg96hs3g81zmjbp94cr0000gn/T/jieba.cache\n",
      "Loading model cost 1.775 seconds.\n",
      "Prefix dict has been built succesfully.\n"
     ]
    }
   ],
   "source": [
    "# 使用結巴分詞 \n",
    "# 分詞後會導致換行符號消失，因此在後來建立lrc_string時要用final_lrc當文本\n",
    "import jieba\n",
    "s=''\n",
    "for line in final_lrc:\n",
    "    s+='/'.join(jieba.cut(line))\n",
    "new_s=''\n",
    "for i in s:\n",
    "    if i != '\\n':\n",
    "        new_s+=i\n",
    "all_words=new_s.split('/')"
   ]
  },
  {
   "cell_type": "code",
   "execution_count": 9,
   "metadata": {},
   "outputs": [
    {
     "name": "stdout",
     "output_type": "stream",
     "text": [
      "['就', '像', '我', '告訴', '自己', '我', '很酷', '又', '像', '我剛']\n"
     ]
    }
   ],
   "source": [
    "print(all_words[:10])"
   ]
  },
  {
   "cell_type": "code",
   "execution_count": 10,
   "metadata": {},
   "outputs": [],
   "source": [
    "# 建立字典，保存所有字/詞，並且將之編號以便之後找字/詞用\n",
    "dictionary = {}\n",
    "\n",
    "# 先將all_words裡所有的字/詞放入字典\n",
    "# len(dictionary)為編號\n",
    "for word in all_words:\n",
    "    if word not in dictionary:\n",
    "        dictionary[word] = len(dictionary)\n",
    "        \n",
    "# 由於all_words為經過分詞後的list，當中可能喪失了一些原本有的字和換行符號\n",
    "# 因此在用final_lrc做一次，將新字放入字典（包括換行符號）\n",
    "for line in final_lrc:\n",
    "    for word in line:\n",
    "        if word not in dictionary:\n",
    "            dictionary[word] = len(dictionary)"
   ]
  },
  {
   "cell_type": "code",
   "execution_count": 11,
   "metadata": {},
   "outputs": [
    {
     "name": "stdout",
     "output_type": "stream",
     "text": [
      "就 : 0\n",
      "像 : 1\n",
      "我 : 2\n",
      "告訴 : 3\n",
      "自己 : 4\n",
      "很酷 : 5\n",
      "又 : 6\n",
      "我剛 : 7\n",
      "認識 : 8\n",
      "妳 : 9\n"
     ]
    }
   ],
   "source": [
    "# print dictionary前10個資料           \n",
    "for i, key in zip(range(10), dictionary):\n",
    "    print(key, \":\", dictionary[key])"
   ]
  },
  {
   "cell_type": "code",
   "execution_count": 12,
   "metadata": {},
   "outputs": [
    {
     "data": {
      "text/plain": [
       "12897"
      ]
     },
     "execution_count": 12,
     "metadata": {},
     "output_type": "execute_result"
    }
   ],
   "source": [
    "# 「式」這個字在字典裡的第11284裡面\n",
    "dictionary['式']"
   ]
  },
  {
   "cell_type": "code",
   "execution_count": 13,
   "metadata": {},
   "outputs": [
    {
     "name": "stdout",
     "output_type": "stream",
     "text": [
      "sorted_char_list:  [('就', 0), ('像', 1), ('我', 2), ('告訴', 3), ('自己', 4)] \n",
      "\n",
      "char_list:  ['就', '像', '我', '告訴', '自己', '很酷', '又', '我剛', '認識', '妳', '那', '時候', '的', '笑', '沒', '忍住', '也', '開始']\n"
     ]
    }
   ],
   "source": [
    "# 將字典排序後轉換成一個list\n",
    "# 建立char_list創造歌詞時，用來使用字/詞的來源\n",
    "# dictionary：用來查找字/詞，並將其中的編號作為之後tensor的字/詞向量\n",
    "# char_list：用來拿取字/詞，寫出之後的歌詞\n",
    "import operator\n",
    "\n",
    "sorted_char_list = sorted(dictionary.items(), key=operator.itemgetter(1), reverse=False)\n",
    "\n",
    "print(\"sorted_char_list: \", sorted_char_list[:5], '\\n')\n",
    "\n",
    "# item[0]是sorted_char_list裡的「字/詞」部分\n",
    "char_list = []\n",
    "for item in sorted_char_list:\n",
    "    char_list.append(item[0])\n",
    "    \n",
    "print(\"char_list: \", char_list[:18])"
   ]
  },
  {
   "cell_type": "code",
   "execution_count": 14,
   "metadata": {},
   "outputs": [
    {
     "name": "stdout",
     "output_type": "stream",
     "text": [
      "就 : 0\n",
      "像 : 1\n",
      "我 : 2\n",
      "告訴 : 3\n",
      "自己 : 4\n",
      "很酷 : 5\n",
      "又 : 6\n",
      "我剛 : 7\n",
      "認識 : 8\n",
      "妳 : 9\n",
      "\n",
      "\n",
      "就 : 0\n",
      "像 : 1\n",
      "我 : 2\n",
      "告訴 : 3\n",
      "自己 : 4\n",
      "很酷 : 5\n",
      "又 : 6\n",
      "我剛 : 7\n",
      "認識 : 8\n",
      "妳 : 9\n"
     ]
    }
   ],
   "source": [
    "# 確認char_list和dictionary裡面的字/詞是否順序一樣\n",
    "for ch in char_list[:10]:\n",
    "    print(ch, \":\", dictionary[ch])\n",
    "\n",
    "print('\\n')\n",
    "\n",
    "for i, key in zip(range(10), dictionary):\n",
    "    print(key, \":\", dictionary[key])"
   ]
  },
  {
   "cell_type": "code",
   "execution_count": 15,
   "metadata": {},
   "outputs": [
    {
     "name": "stdout",
     "output_type": "stream",
     "text": [
      "19948\n"
     ]
    }
   ],
   "source": [
    "# 建立n_characters，代表總共有幾個字/詞 （利用字典的長度）\n",
    "n_characters = len(dictionary)\n",
    "print(n_characters)"
   ]
  },
  {
   "cell_type": "code",
   "execution_count": 16,
   "metadata": {},
   "outputs": [
    {
     "name": "stdout",
     "output_type": "stream",
     "text": [
      "n_characters： 19948\n",
      "就 : 0\n",
      "像 : 1\n",
      "我 : 2\n",
      "告訴 : 3\n",
      "自己 : 4\n",
      "很酷 : 5\n",
      "又 : 6\n",
      "我剛 : 7\n",
      "認識 : 8\n",
      "妳 : 9\n"
     ]
    }
   ],
   "source": [
    "print(\"n_characters：\", n_characters)\n",
    "for i, key in zip(range(10), dictionary):\n",
    "    print(key, \":\", dictionary[key])"
   ]
  },
  {
   "cell_type": "code",
   "execution_count": 17,
   "metadata": {},
   "outputs": [],
   "source": [
    "# 建立lyc_string，將歌詞作為一個string，以便後面可以隨機擷取一段並訓練\n",
    "# 如上面所提，為了讓lrc_string有最原始的歌詞形式，因此使用final_lrc\n",
    "# 因為分詞後的all_words去除了換行，會造成之後模型訓練時不知道歌詞要換行\n",
    "lrc_string = ''\n",
    "for line in final_lrc:\n",
    "    for ch in line:\n",
    "        lrc_string += ch"
   ]
  },
  {
   "cell_type": "code",
   "execution_count": 18,
   "metadata": {},
   "outputs": [
    {
     "name": "stdout",
     "output_type": "stream",
     "text": [
      "就像我告訴自己我很酷\n",
      "又像我剛認識妳那時\n"
     ]
    }
   ],
   "source": [
    "# print lyc_string\n",
    "print(lrc_string[:20])"
   ]
  },
  {
   "cell_type": "code",
   "execution_count": 19,
   "metadata": {},
   "outputs": [
    {
     "name": "stdout",
     "output_type": "stream",
     "text": [
      "228462\n",
      "31709\n"
     ]
    }
   ],
   "source": [
    "# print 總歌詞字數\n",
    "print(len(lrc_string))\n",
    "\n",
    "print(lrc_string.count('\\n', 0, len(lrc_string)))"
   ]
  },
  {
   "cell_type": "code",
   "execution_count": 20,
   "metadata": {},
   "outputs": [],
   "source": [
    "# random_chunk()為隨機取樣某個範圍的歌詞，讓模型去學習\n",
    "import random\n",
    "\n",
    "# 設定取樣chunk_len個字\n",
    "chunk_len = 200\n",
    "\n",
    "def random_chunk():\n",
    "    # 設定取樣的歌詞起點，範圍：0 ~ (總歌詞數 - chunk_len)\n",
    "    start_index = random.randrange(0, len(lrc_string) - chunk_len)\n",
    "    # + 1為RNN模型之設計，為了讓輸入與輸出的字/詞數相同\n",
    "    end_index = start_index + chunk_len + 1\n",
    "    # 將取樣的列表項轉化為字串再返回\n",
    "    return lrc_string[start_index:end_index]"
   ]
  },
  {
   "cell_type": "code",
   "execution_count": 21,
   "metadata": {},
   "outputs": [
    {
     "name": "stdout",
     "output_type": "stream",
     "text": [
      "201 <class 'str'>\n"
     ]
    }
   ],
   "source": [
    "# test random_chunk()\n",
    "test = random_chunk() \n",
    "print(len(test), type(test))"
   ]
  },
  {
   "cell_type": "code",
   "execution_count": 22,
   "metadata": {},
   "outputs": [
    {
     "data": {
      "text/plain": [
       "'盤一直轉來轉去\\n跳到幾點也沒有關係\\n只要音樂不要斷續\\n今晚讓我玩得貪心\\n沒有什麼放不開\\n當你看我上了台\\n說我名就拿著麥\\n皇后回來\\n了\\n今晚不想待在家裡\\n家裡\\n一起出來\\n不管怎麼紓解壓力\\n壓力\\n隨便在哪裡\\n今晚不想待在家裡\\n家裡\\n一起出來\\n不管怎麼紓解壓力\\n壓力\\n隨便在哪裡\\n今晚不想待在家裡\\n家裡\\n一起出來\\n不管怎麼紓解壓力\\n壓力\\n隨便在哪裡\\n今晚不想待在家裡\\n家裡\\n一起出來\\n不管怎麼紓解壓力\\n壓力\\n'"
      ]
     },
     "execution_count": 22,
     "metadata": {},
     "output_type": "execute_result"
    }
   ],
   "source": [
    "test"
   ]
  },
  {
   "cell_type": "code",
   "execution_count": 23,
   "metadata": {},
   "outputs": [
    {
     "name": "stdout",
     "output_type": "stream",
     "text": [
      "CPU\n"
     ]
    }
   ],
   "source": [
    "import torch\n",
    "# 測試GPU是否有效\n",
    "train_on_gpu = torch.cuda.is_available()\n",
    "if(train_on_gpu):\n",
    "    print('Training on GPU!')\n",
    "else: \n",
    "    print('CPU')"
   ]
  },
  {
   "cell_type": "code",
   "execution_count": 24,
   "metadata": {},
   "outputs": [],
   "source": [
    "# 建立char_tensor，將字典中的字/詞轉成tensor\n",
    "import torch\n",
    "import torch.nn as nn\n",
    "from torch.autograd import Variable\n",
    "\n",
    "def char_tensor(string):\n",
    "    # 建立longTensor，值設為0，長度為輸入的string長度\n",
    "    tensor = torch.zeros(len(string)).long()\n",
    "    \n",
    "    # 逐字查找字典\n",
    "    # 如上文所說，取出每個字的編號，保存到Tensor中\n",
    "    for c in range(len(string)):\n",
    "        tensor[c] = dictionary[string[c]]\n",
    "        \n",
    "    return Variable(tensor)"
   ]
  },
  {
   "cell_type": "code",
   "execution_count": 25,
   "metadata": {},
   "outputs": [
    {
     "name": "stdout",
     "output_type": "stream",
     "text": [
      "201\n"
     ]
    }
   ],
   "source": [
    "# 測試從random_chunk()隨機取字，做成tensor\n",
    "test_tensor = char_tensor(random_chunk())\n",
    "\n",
    "# 查看Tensor長度\n",
    "print(len(test_tensor))\n"
   ]
  },
  {
   "cell_type": "code",
   "execution_count": 26,
   "metadata": {},
   "outputs": [
    {
     "name": "stdout",
     "output_type": "stream",
     "text": [
      "tensor([  722,   185, 18372,     2,    12,  5954,  5954, 18372,     9,    62,\n",
      "          266,  1351,  4453, 15637, 19259,  2038, 18372,  5954,  5954, 18372,\n",
      "            2,    57,   183,  3118,    12, 15637, 19259, 18372,   497,    62,\n",
      "          944,   633,    12,   944,    58,   633, 18372,     0,  1291, 18374,\n",
      "          543, 18372,  1357,  1433, 18373,    58, 12986,   761, 18372,  1433,\n",
      "         1048, 10047,  1076,    31,  1302,  1916,  1164, 18372,  1206,    48,\n",
      "          107, 12986,   761, 18372,   292,   712,    12,  3265,   418,  1029,\n",
      "        18372,     2,  1206,  2124,    22,   712,  1897, 15637, 19259, 18372,\n",
      "          217,    22,    22,    31, 18452,   472,  1897, 18716,  2275, 18372,\n",
      "         4795,  2275,   130,  2809,  1351, 11391,   185,  7139, 18372,    57,\n",
      "            9, 18370, 18371,     2,    10,   464,   185,  7139, 18372,     9,\n",
      "        16209, 12587,   213, 13875,  7139,  5028,   358,    89,   231, 11534,\n",
      "          826,     9,   279,    57,  1351,  6238,    12,  1289, 13875,  7139,\n",
      "        18372,  5954,  5954, 18372,  9394, 18372,  5954,  5954, 18372,  1572,\n",
      "           10,  8465,   183,  2817,    89,     9,  2275,  2276, 18372,   266,\n",
      "         1471,   722,  1351,  3663,    12,   160, 18372,  1351,   545,  3563,\n",
      "         1351, 11534, 15637, 19259, 18372,    62,  5902,  8464,   236,     9,\n",
      "           53,   680,  2277,   472,   335, 18372, 11507,   212,   521,  5057,\n",
      "        18372, 10858,   712,  3502,  8686,  5276,    22,   998, 18372, 11365,\n",
      "        11365,   631,   631, 18372,     6,   497,    62,  2743, 15089, 15089,\n",
      "        18372])\n"
     ]
    }
   ],
   "source": [
    "# 查看Tensor中保存的編號\n",
    "print(test_tensor)"
   ]
  },
  {
   "cell_type": "code",
   "execution_count": 27,
   "metadata": {},
   "outputs": [],
   "source": [
    "# 建立\n",
    "def char_tensor2(string):\n",
    "\n",
    "    c = dictionary[string]\n",
    "    \n",
    "    tensor = torch.tensor([c])\n",
    "    \n",
    "    return Variable(tensor)"
   ]
  },
  {
   "cell_type": "code",
   "execution_count": 28,
   "metadata": {},
   "outputs": [
    {
     "name": "stdout",
     "output_type": "stream",
     "text": [
      "1\n",
      "tensor([10263])\n"
     ]
    }
   ],
   "source": [
    "# 測試\n",
    "test2_tensor = char_tensor2('漂到')\n",
    "print(len(test2_tensor))\n",
    "print(test2_tensor)"
   ]
  },
  {
   "cell_type": "code",
   "execution_count": 29,
   "metadata": {},
   "outputs": [],
   "source": [
    "# 建立random_training_set()，隨機訓練集\n",
    "def random_training_set():\n",
    "   \n",
    "    # 先選取201字符長度的文本\n",
    "    chunk = random_chunk()\n",
    "    \n",
    "    # 將取樣的文本轉為Tensor\n",
    "    # [:-1]從第一個值到倒數第二個值\n",
    "    inp = char_tensor(chunk[:-1]) \n",
    "    \n",
    "    # [1:]從第二個值到最後一個值\n",
    "    target = char_tensor(chunk[1:]) \n",
    "    \n",
    "    return inp, target"
   ]
  },
  {
   "cell_type": "code",
   "execution_count": 30,
   "metadata": {},
   "outputs": [
    {
     "name": "stdout",
     "output_type": "stream",
     "text": [
      "tensor([18722,  4483,   314,   292,   637, 18372,  2368,    60, 18711,   761,\n",
      "           12,  1370, 19642, 18372,     0,     1,     2,    12,  2277,   407,\n",
      "        18372,    58,    22, 15516,  4827,   720,  1007, 18736,    12, 19643,\n",
      "           13, 18372, 18618,  2073,   202,   348,   462,   633, 18372,   189,\n",
      "          497,    59,   202,   462,   633, 18372,     2,   308, 18372,  4827,\n",
      "          720, 18372,  1007, 18736, 18372,  3770,  1178, 18372,   189,   480,\n",
      "        18372,  6478,   266, 18372,   202,    12, 18372,  7794,    13, 18372,\n",
      "        11749, 18372,     2,  2515,    12,  1289,  1768, 18784, 18372,   666,\n",
      "          202,  5426,  4763,     2,  1919,  2282, 18372,     2,    12,  2277,\n",
      "         8020, 18372, 19639, 19640, 19639, 19640, 18372,     2,    12,  5311,\n",
      "         6356,  5285,   202, 18709,  2224, 18412, 10277, 18372, 18618,  2073,\n",
      "          202,    58,   418,   192,     2,  8083,   633, 18372,     2,  1289,\n",
      "        15868, 19180,    58,   418,   236,   202,    72,  5734, 18372,   315,\n",
      "          633,   231,  1351, 17423,     2,   497,   236,   202,    53, 18372,\n",
      "          202,    57, 18372,     2,    12, 18372, 17093,  3118,   213, 18372,\n",
      "          202,    57,     2,    12, 17093,  3118,   213, 18372,   202,    57,\n",
      "            2,    12, 17093,  3118,   213, 18372,   202,    57,     2,    12,\n",
      "        17093,  3118,   213, 18372,   202,    57,     2,    12, 17093,  3118,\n",
      "          213, 18372,   202,    57,     2,    12, 17093,  3118,   213, 18372,\n",
      "          202,    57,     2,    12, 17093,  3118,   213, 18372,   231, 13824]) \n",
      "\n",
      " tensor([ 4483,   314,   292,   637, 18372,  2368,    60, 18711,   761,    12,\n",
      "         1370, 19642, 18372,     0,     1,     2,    12,  2277,   407, 18372,\n",
      "           58,    22, 15516,  4827,   720,  1007, 18736,    12, 19643,    13,\n",
      "        18372, 18618,  2073,   202,   348,   462,   633, 18372,   189,   497,\n",
      "           59,   202,   462,   633, 18372,     2,   308, 18372,  4827,   720,\n",
      "        18372,  1007, 18736, 18372,  3770,  1178, 18372,   189,   480, 18372,\n",
      "         6478,   266, 18372,   202,    12, 18372,  7794,    13, 18372, 11749,\n",
      "        18372,     2,  2515,    12,  1289,  1768, 18784, 18372,   666,   202,\n",
      "         5426,  4763,     2,  1919,  2282, 18372,     2,    12,  2277,  8020,\n",
      "        18372, 19639, 19640, 19639, 19640, 18372,     2,    12,  5311,  6356,\n",
      "         5285,   202, 18709,  2224, 18412, 10277, 18372, 18618,  2073,   202,\n",
      "           58,   418,   192,     2,  8083,   633, 18372,     2,  1289, 15868,\n",
      "        19180,    58,   418,   236,   202,    72,  5734, 18372,   315,   633,\n",
      "          231,  1351, 17423,     2,   497,   236,   202,    53, 18372,   202,\n",
      "           57, 18372,     2,    12, 18372, 17093,  3118,   213, 18372,   202,\n",
      "           57,     2,    12, 17093,  3118,   213, 18372,   202,    57,     2,\n",
      "           12, 17093,  3118,   213, 18372,   202,    57,     2,    12, 17093,\n",
      "         3118,   213, 18372,   202,    57,     2,    12, 17093,  3118,   213,\n",
      "        18372,   202,    57,     2,    12, 17093,  3118,   213, 18372,   202,\n",
      "           57,     2,    12, 17093,  3118,   213, 18372,   231, 13824,  1832])\n"
     ]
    },
    {
     "data": {
      "text/plain": [
       "torch.Size([200])"
      ]
     },
     "execution_count": 30,
     "metadata": {},
     "output_type": "execute_result"
    }
   ],
   "source": [
    "# 測試，可以注意到，inp的第二個值 = target的第一個值，以此類推\n",
    "inp, target = random_training_set()\n",
    "print(inp, '\\n\\n', target)\n",
    "inp.shape"
   ]
  },
  {
   "cell_type": "code",
   "execution_count": 276,
   "metadata": {},
   "outputs": [],
   "source": [
    "# 建立模型，在此使用GRU，為lstm的變形\n",
    "import torch\n",
    "import torch.nn as nn\n",
    "from torch.autograd import Variable\n",
    "class RNN(nn.Module):\n",
    "    def __init__(self, input_size, hidden_size, output_size, n_layers):\n",
    "        super(RNN, self).__init__()\n",
    "        self.input_size = input_size\n",
    "        self.hidden_size = hidden_size\n",
    "        self.output_size = output_size\n",
    "        self.n_layers = n_layers\n",
    "        # 編碼器\n",
    "        self.encoder = nn.Embedding(input_size, hidden_size) #把1個字變成100 dim的表示方式\n",
    "        nn.Embedding.from_pretrained\n",
    "        # GRU\n",
    "        self.gru = nn.GRU(hidden_size, hidden_size, n_layers) #1: words hidden_size, 2:h, 總共有幾為 3: 疊rnn層數，起出不對沒幫助\n",
    "        # 解碼器\n",
    "        self.decoder = nn.Linear(hidden_size, output_size) # 把h的dim變成o的dim\n",
    "    def forward(self, input, hidden):\n",
    "        input = self.encoder(input.view(1, -1))\n",
    "        output, hidden = self.gru(input.view(1, 1, -1), hidden)\n",
    "        output = self.decoder(output.view(1, -1))\n",
    "        return output, hidden\n",
    "    def init_hidden(self):\n",
    "        return Variable(torch.zeros(self.n_layers, 1, self.hidden_size))"
   ]
  },
  {
   "cell_type": "code",
   "execution_count": 277,
   "metadata": {},
   "outputs": [],
   "source": [
    "n_epochs = 30 # 迭代次數\n",
    "print_every = 1 # 每隔多少次迭代打印\n",
    "plot_every = 1 # 每個多少次迭代記錄圖表值\n",
    "hidden_size = 100 # 隱藏單元的數量\n",
    "n_layers = 10 # 隱藏層層數\n",
    "lr = 0.005 # 學習率\n",
    "# 設定RNN模型為decoder\n",
    "decoder = RNN(n_characters, hidden_size, n_characters, n_layers)\n",
    "# 使用Adam優化算法\n",
    "decoder_optimizer = torch.optim.Adam(decoder.parameters(), lr=lr)\n",
    "# 使用交叉熵損失\n",
    "criterion = nn.CrossEntropyLoss()"
   ]
  },
  {
   "cell_type": "code",
   "execution_count": 278,
   "metadata": {},
   "outputs": [],
   "source": [
    "if train_on_gpu:\n",
    "    decoder_gpu = decoder.cuda()"
   ]
  },
  {
   "cell_type": "code",
   "execution_count": 279,
   "metadata": {},
   "outputs": [],
   "source": [
    "# inp，訓練輸入數據，包含200個字\n",
    "# target，目標，包含200個字\n",
    "def train(inp, target):\n",
    "    # 將隱藏層置零\n",
    "    if train_on_gpu:\n",
    "        hidden = decoder_gpu.init_hidden()\n",
    "    else:\n",
    "        hidden = decoder.init_hidden()\n",
    "    # 將模型的梯度置零\n",
    "    decoder.zero_grad()\n",
    "    # 損失值初始化\n",
    "    loss = 0\n",
    "    # chunk_len是在上面定義的訓練數據及目標數據的長度\n",
    "    # 值為200\n",
    "    for c in range(chunk_len):\n",
    "        # 用RNN的forward函數，進行一次正向傳播\n",
    "        if train_on_gpu:\n",
    "            output, hidden = decoder_gpu(inp[c].cuda(), hidden.cuda())\n",
    "            loss += criterion(output, target[c].unsqueeze(0).cuda())\n",
    "        else:\n",
    "            output, hidden = decoder(inp[c], hidden)\n",
    "            loss += criterion(output, target[c].unsqueeze(0))\n",
    "        # 與目標值相比計算交叉熵損失\n",
    "        \n",
    "    # 循環完200個字後進行一次反向傳播\n",
    "    loss.backward()\n",
    "    decoder_optimizer.step()\n",
    "    \n",
    "    # 返回平均損失\n",
    "    return loss.item() / chunk_len"
   ]
  },
  {
   "cell_type": "code",
   "execution_count": 286,
   "metadata": {},
   "outputs": [],
   "source": [
    "# prime_str：可設定歌詞開頭的「字/詞」\n",
    "# predict_len：要預測多少個字，每次產生歌詞的長度\n",
    "# temperature：混亂度，越高代表句子相對複雜，但可能較不邏輯（依訓練好壞有差）\n",
    "def evaluate(prime_str='我', predict_len=50, temperature=0.85):\n",
    "   \n",
    "    # 隱藏層置零\n",
    "    if train_on_gpu:\n",
    "        hidden = decoder_gpu.init_hidden()\n",
    "    else:\n",
    "        hidden =decoder.init_hidden()\n",
    "        \n",
    "    # 將我們給模型的「開頭」轉化為 Tensor\n",
    "    prime_input = char_tensor(prime_str)\n",
    "    \n",
    "    # predicted用來保存生成的嘻哈歌詞\n",
    "    predicted = prime_str\n",
    "    \n",
    "    # 首先，用我們給的「prime_str」運行模型的forward\n",
    "    # 也就是使用「prime_str」建立RNN隱藏層狀態\n",
    "    for p in range(len(prime_str) - 1):\n",
    "        if train_on_gpu:\n",
    "            _, hidden = decoder_gpu(prime_input[p].cuda(), hidden.cuda())\n",
    "        else:\n",
    "            _, hidden = decoder(prime_input[p], hidden)\n",
    "    \n",
    "    inp = prime_input[-1]\n",
    "\n",
    "    for p in range(predict_len):\n",
    "        \n",
    "        # 輸出以及隱藏層狀態\n",
    "        if train_on_gpu:\n",
    "            output, hidden = decoder_gpu(inp.cuda(), hidden.cuda())\n",
    "        else:\n",
    "            output, hidden = decoder(inp, hidden)\n",
    "\n",
    "#        print('inp.shape1', inp.shape, predict_len)\n",
    "        # 根據「混亂度」從輸出的多項式分布中採樣\n",
    "        output_dist = output.data.view(-1).div(temperature).exp()\n",
    "        \n",
    "#        print('inp.shape3', inp.shape, predict_len)\n",
    "        top_i = torch.multinomial(output_dist, 1)[0]\n",
    "    \n",
    "#        print('inp.shape4', inp.shape, predict_len, top_i)\n",
    "        # 將採樣的值轉化為文字\n",
    "        predicted_char = char_list[top_i]\n",
    "        \n",
    "#        print('inp.shape5', inp.shape, predicted_char)\n",
    "        # 將模型預測出的字加入到predicted中\n",
    "        predicted += predicted_char\n",
    "        \n",
    "#        print('inp.shape6', inp.shape, predicted, predicted_char)\n",
    "        # 下一次預測的「輸入」就是這次預測的輸出\n",
    "        inp = char_tensor2(predicted_char)\n",
    "        \n",
    "#        print('inp.shape7', inp.shape, char_tensor2(predicted_char))\n",
    "\n",
    "    return predicted"
   ]
  },
  {
   "cell_type": "code",
   "execution_count": 287,
   "metadata": {},
   "outputs": [],
   "source": [
    "# 用於計算訓練時間的函數\n",
    "import time, math\n",
    "\n",
    "def time_since(since):\n",
    "    s = time.time() - since\n",
    "    m = math.floor(s / 60)\n",
    "    s -= m * 60\n",
    "    return '%dm %ds' % (m, s)"
   ]
  },
  {
   "cell_type": "code",
   "execution_count": 288,
   "metadata": {},
   "outputs": [
    {
     "name": "stdout",
     "output_type": "stream",
     "text": [
      "[0m 3s (1 3%) 6.5219]\n",
      "我神\n",
      "外頭在後在是些心\n",
      "們非然紅\n",
      "或\n",
      "差著神\n",
      "們\n",
      "為能阿有\n",
      "體笑在來程有這\n",
      "太的音喜們髮他鬧\n",
      "配天得\n",
      "是 \n",
      "[0m 7s (2 6%) 6.6288]\n",
      "我著永\n",
      "情他\n",
      "人著吃著的你的\n",
      "\n",
      "在他著\n",
      "生寶\n",
      "老的開的貨喜他不這控是代不服在問可這生\n",
      "再心\n",
      "眼在投閉\n",
      " \n",
      "[0m 11s (3 10%) 6.1692]\n",
      "我怕據無亂雅表歡條\n",
      "色子們們押底都數的幹們懂著\n",
      "\n",
      "她們畫作字抽死\n",
      "爆讓的幾\n",
      "人的我天都\n",
      "\n",
      "了漫明味\n",
      "麼 \n",
      "[0m 14s (4 13%) 6.4398]\n",
      "我都歌的的\n",
      "別們家幹\n",
      "就所他你\n",
      "\n",
      "的跟妳辣不給做的明楚複你\n",
      "的家該髮個\n",
      "想動盡\n",
      "為老對落\n",
      "\n",
      "大了路神\n",
      "有 \n",
      "[0m 18s (5 16%) 6.7508]\n",
      "我一現\n",
      "\n",
      "老\n",
      "為\n",
      "上變以調們拍\n",
      "不煙辣生沒斷\n",
      "笑法非該\n",
      "流跳相喔\n",
      "是\n",
      "他足的把\n",
      "著那著發一女幹\n",
      "在得最 \n",
      "[0m 22s (6 20%) 6.1009]\n",
      "我不\n",
      "迎\n",
      "\n",
      "你\n",
      "音讓麗\n",
      "開造\n",
      "你不\n",
      "能可時兄\n",
      "沒想有們\n",
      "\n",
      "\n",
      "到就不\n",
      "情\n",
      "\n",
      "著拼了一小抽是上\n",
      "\n",
      "一首物他 \n",
      "[0m 25s (7 23%) 5.6619]\n",
      "我把拳緊\n",
      "大說\n",
      "\n",
      "愛真\n",
      "是你\n",
      "有明幻好認樣間到白樂十\n",
      "在\n",
      "天女\n",
      "下是沒\n",
      "\n",
      "死\n",
      "一要\n",
      "死爛\n",
      "\n",
      "不歡拍\n",
      "身 \n",
      "[0m 29s (8 26%) 6.1243]\n",
      "我兒曾老的曲\n",
      "\n",
      "眼\n",
      "妹\n",
      "抽那你許易死胡但連\n",
      "的不漫\n",
      "上幾\n",
      "亂\n",
      "\n",
      "\n",
      "帶一\n",
      "還出們\n",
      "\n",
      "\n",
      "\n",
      "\n",
      "樂會是你反\n",
      "非 \n",
      "[0m 33s (9 30%) 6.9690]\n",
      "我那妹他\n",
      "得\n",
      "\n",
      "但稿會在著\n",
      "嘛緊\n",
      "造你飛\n",
      "\n",
      "兒\n",
      "活還車生生\n",
      "韻幾候落麼\n",
      "對怎號是我是在\n",
      "\n",
      "都著抽他到後 \n",
      "[0m 36s (10 33%) 7.0882]\n",
      "我上回\n",
      "\n",
      "才會好裡直男對是我金\n",
      "我\n",
      "\n",
      "回己同風會歌太\n",
      "不我\n",
      "可\n",
      "現到在界一\n",
      "\n",
      "\n",
      "會魚燒後\n",
      "\n",
      "首\n",
      "一\n",
      "我\n",
      " \n",
      "[0m 40s (11 36%) 6.1140]\n",
      "我方\n",
      "感都\n",
      "講\n",
      "是\n",
      "我\n",
      "他澀怕常不你作不你天\n",
      "在了\n",
      "\n",
      "想也男的的\n",
      "\n",
      "\n",
      "的都我\n",
      "\n",
      "女我點很在上台\n",
      "榔子\n",
      " \n",
      "[0m 44s (12 40%) 6.5398]\n",
      "我\n",
      "你票見\n",
      "釋\n",
      "穿在分麼\n",
      "就我\n",
      "我最自都問\n",
      "都\n",
      "生搖撥出\n",
      "上你要\n",
      "賬對是出\n",
      "把\n",
      "生我女你煩家\n",
      "得\n",
      "一爪 \n",
      "[0m 47s (13 43%) 5.5816]\n",
      "我的\n",
      "\n",
      "的們但煙太代\n",
      "\n",
      "\n",
      "\n",
      "一\n",
      "易\n",
      "你你\n",
      "你流你面像無\n",
      "得你可一對才花你那我事錯\n",
      "吃日\n",
      "覺才\n",
      "溫我\n",
      "是 \n",
      "[0m 51s (14 46%) 5.5427]\n",
      "我不遠的外我的天弓我口\n",
      "歡的生後\n",
      "到追男對\n",
      "\n",
      "路好想你\n",
      "給我\n",
      "願窗裡\n",
      "已待你女\n",
      "都讓\n",
      "喜\n",
      "不回\n",
      "給\n",
      "在所你 \n",
      "[0m 54s (15 50%) 6.2708]\n",
      "我太切是\n",
      "是躲\n",
      "自\n",
      "在\n",
      "如晚在剖也明不自的樂夠你想天\n",
      "\n",
      "風早的辣爆前天\n",
      "就\n",
      "是的力誤\n",
      "的\n",
      "我瘠\n",
      "一的有 \n",
      "[0m 58s (16 53%) 6.1221]\n",
      "我\n",
      "我怎成有也\n",
      "的那\n",
      "\n",
      "我\n",
      "我快幹向\n",
      "是是不吵電\n",
      "的非我辣厭自\n",
      "會\n",
      "忙\n",
      "集死都你聊時\n",
      "的我\n",
      "\n",
      "\n",
      "的台台 \n",
      "[1m 2s (17 56%) 6.8404]\n",
      "我裝出就和的度關到關\n",
      "到中中麼\n",
      "\n",
      "風在被有就雷處星我\n",
      "\n",
      "又\n",
      "毛\n",
      "的煙中足\n",
      "\n",
      "\n",
      "想孩想時這爸我\n",
      "然起別\n",
      " \n",
      "[1m 5s (18 60%) 6.2835]\n",
      "我珍珠話女保\n",
      "麼候迷面在認的專是\n",
      "我轉哈明想\n",
      "\n",
      "\n",
      "後都然是\n",
      "美是\n",
      "\n",
      "次的旁就的我時聊我曲有再\n",
      "種無候\n",
      "的 \n",
      "[1m 9s (19 63%) 6.0661]\n",
      "我抽我快\n",
      "閃我就我道\n",
      "\n",
      "然\n",
      "高你麼開我有再睛候淚的的在的背我不手\n",
      "一金\n",
      "是種起押是到\n",
      "擇\n",
      "\n",
      "你己光的年 \n",
      "[1m 13s (20 66%) 6.1884]\n",
      "我貼的誤兒\n",
      "滿討有\n",
      "辣的髮在要嘴自懶困輕寸\n",
      "夢氣\n",
      "看做訴七一手\n",
      "嗎天\n",
      "有\n",
      "大的重看\n",
      "自什前的將笑事屁裝 \n",
      "[1m 16s (21 70%) 6.1891]\n",
      "我己您氣你\n",
      "來到\n",
      "不的這停死\n",
      "我重又些的了\n",
      "的候的\n",
      "\n",
      "的要場你她暫得\n",
      "\n",
      "又不要太\n",
      "別道\n",
      "\n",
      "\n",
      "的停台的活 \n",
      "[1m 20s (22 73%) 6.2135]\n",
      "我我不有案成\n",
      "\n",
      "\n",
      "在\n",
      "時候去怕\n",
      "要\n",
      "只我晚術\n",
      "中南\n",
      "下把\n",
      "\n",
      "踏重風該\n",
      "有過出\n",
      "如過奶的非想我是什候是天 \n",
      "[1m 24s (23 76%) 7.3736]\n",
      "我\n",
      "些最\n",
      "又少從有找\n",
      "\n",
      "命哪的像做您\n",
      "有要\n",
      "老\n",
      "都\n",
      "我兄\n",
      "公的你\n",
      "的我\n",
      "的起不的\n",
      "在\n",
      "樣我中\n",
      "要和\n",
      "\n",
      " \n",
      "[1m 27s (24 80%) 6.3824]\n",
      "我我少活情始己忘\n",
      "不\n",
      "\n",
      "想\n",
      "到神太\n",
      "更南\n",
      "要我點著想\n",
      "\n",
      "次\n",
      "大戲\n",
      "搖媽\n",
      "\n",
      "面抱是弱\n",
      "\n",
      "怎嘛在面\n",
      "\n",
      "\n",
      "自 \n",
      "[1m 31s (25 83%) 6.3154]\n",
      "我他\n",
      "被我\n",
      "\n",
      "這不\n",
      "從冰結當能有點道\n",
      "\n",
      "怎精\n",
      "不口摸懂不到遠屌\n",
      "在耳\n",
      "想要意換再我我夢媽我\n",
      "瀰不\n",
      "運我 \n",
      "[1m 35s (26 86%) 6.7305]\n",
      "我多\n",
      "這一\n",
      "\n",
      "你出\n",
      "到\n",
      "看間\n",
      "\n",
      "\n",
      "\n",
      "\n",
      "的太小這位小後默\n",
      "像\n",
      "\n",
      "\n",
      "\n",
      "\n",
      "我的天了\n",
      "的方對天讓你乎\n",
      "出\n",
      "我緊張\n",
      " \n",
      "[1m 39s (27 90%) 5.9545]\n",
      "我瘋然灰最是這\n",
      "\n",
      "是\n",
      "有\n",
      "酒是手情\n",
      "我如卻美我難有討\n",
      "\n",
      "在\n",
      "些的就風永\n",
      "掉直我\n",
      "像後\n",
      "們\n",
      "道\n",
      "\n",
      "運到進 \n",
      "[1m 46s (28 93%) 6.7857]\n",
      "我機遙\n",
      "人我了想死\n",
      "拿\n",
      "讓續\n",
      "到中有\n",
      "是\n",
      "卻要到做\n",
      "我就是不放夢要\n",
      "像\n",
      "是\n",
      "一續怎會有\n",
      "如手裡\n",
      "說給畫 \n",
      "[1m 49s (29 96%) 6.1908]\n",
      "我有克鑽\n",
      "球\n",
      "\n",
      "如話\n",
      "做勇\n",
      "有\n",
      "\n",
      "那唱息有把記我他世向我\n",
      "不的這為我\n",
      "\n",
      "很\n",
      "要你的了記踏\n",
      "又戲是如我\n",
      " \n",
      "[1m 53s (30 100%) 6.0298]\n",
      "我櫥裡要\n",
      "什紙\n",
      "高\n",
      "活\n",
      "\n",
      "會我看不了是勇跌下\n",
      "說只\n",
      "\n",
      "己的平的\n",
      "說為我實在有背些我\n",
      "著\n",
      "少樣戲直\n",
      "了惰\n",
      " \n"
     ]
    }
   ],
   "source": [
    "# 開始訓練！\n",
    "# start：開始計時\n",
    "# 計算loss\n",
    "start = time.time()\n",
    "all_losses = []\n",
    "loss_avg = 0\n",
    "for epoch in range(1, n_epochs + 1):\n",
    "    loss = train(*random_training_set())\n",
    "    loss_avg += loss\n",
    "\n",
    "    if epoch % print_every == 0:\n",
    "        print('[%s (%d %d%%) %.4f]' % (time_since(start), epoch, epoch / n_epochs * 100, loss))\n",
    "        print(evaluate('我', 50), '')\n",
    "    if epoch % plot_every == 0:\n",
    "        all_losses.append(loss_avg / plot_every)\n",
    "        loss_avg = 0"
   ]
  },
  {
   "cell_type": "code",
   "execution_count": 186,
   "metadata": {},
   "outputs": [
    {
     "data": {
      "text/plain": [
       "[<matplotlib.lines.Line2D at 0x11e8ef198>]"
      ]
     },
     "execution_count": 186,
     "metadata": {},
     "output_type": "execute_result"
    },
    {
     "data": {
      "image/png": "[encoded data removed]",
      "text/plain": [
       "<Figure size 432x288 with 1 Axes>"
      ]
     },
     "metadata": {
      "needs_background": "light"
     },
     "output_type": "display_data"
    }
   ],
   "source": [
    "import matplotlib.pyplot as plt \n",
    "import matplotlib.ticker as ticker \n",
    "%matplotlib inline \n",
    "plt.figure() \n",
    "plt.plot(all_losses) #觀察loss是觀察模型訓練過程"
   ]
  },
  {
   "cell_type": "code",
   "execution_count": null,
   "metadata": {},
   "outputs": [],
   "source": []
  },
  {
   "cell_type": "code",
   "execution_count": null,
   "metadata": {},
   "outputs": [],
   "source": []
  },
  {
   "cell_type": "code",
   "execution_count": null,
   "metadata": {},
   "outputs": [],
   "source": []
  },
  {
   "cell_type": "code",
   "execution_count": null,
   "metadata": {},
   "outputs": [],
   "source": []
  },
  {
   "cell_type": "code",
   "execution_count": null,
   "metadata": {},
   "outputs": [],
   "source": []
  }
 ],
 "metadata": {
  "kernelspec": {
   "display_name": "Python 3",
   "language": "python",
   "name": "python3"
  },
  "language_info": {
   "codemirror_mode": {
    "name": "ipython",
    "version": 3
   },
   "file_extension": ".py",
   "mimetype": "text/x-python",
   "name": "python",
   "nbconvert_exporter": "python",
   "pygments_lexer": "ipython3",
   "version": "3.7.0"
  }
 },
 "nbformat": 4,
 "nbformat_minor": 2
}
