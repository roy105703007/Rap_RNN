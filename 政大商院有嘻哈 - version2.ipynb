{
 "cells": [
  {
   "cell_type": "code",
   "execution_count": 1,
   "metadata": {},
   "outputs": [],
   "source": [
    "# 讀取歌詞\n",
    "lyrics = open('lyrics2.txt').readlines()"
   ]
  },
  {
   "cell_type": "code",
   "execution_count": 2,
   "metadata": {},
   "outputs": [
    {
     "name": "stdout",
     "output_type": "stream",
     "text": [
      "['<p class=“lyrics”>\\n', '                作詞：國蛋 GorDoN\\xa0\\xa0\\xa0\\n', '                作曲：國蛋 GorDoN<br/>\\n', '<br/>\\n', '就像我告訴自己我很酷<br/>\\n', '又像我剛認識妳那時候 妳的笑沒忍住<br/>\\n', '也像我剛開始懂事  剛開始有感觸<br/>\\n', '在某種天分受到啟發剛開始嶄露的那個年紀<br/>\\n', '每天都試著跟妳聯繫<br/>\\n', '聽見妳聲音就能維持這種甜蜜<br/>\\n']\n"
     ]
    }
   ],
   "source": [
    "# print lyrics\n",
    "print(lyrics[:10])"
   ]
  },
  {
   "cell_type": "code",
   "execution_count": 3,
   "metadata": {},
   "outputs": [],
   "source": [
    "# 去除歌詞中不屬於歌詞的詞\n",
    "for i in range(len(lyrics)):\n",
    "    line = lyrics[i]\n",
    "    if \"作詞\" in line or \"作曲\" in line or \"編曲\" in line or \"錄音\" in line or \"混缩\" in line or \"制作人\" in line:\n",
    "        lyrics[i] = ''"
   ]
  },
  {
   "cell_type": "code",
   "execution_count": 4,
   "metadata": {},
   "outputs": [
    {
     "name": "stdout",
     "output_type": "stream",
     "text": [
      "['<p class=“lyrics”>\\n', '', '', '<br/>\\n', '就像我告訴自己我很酷<br/>\\n', '又像我剛認識妳那時候 妳的笑沒忍住<br/>\\n', '也像我剛開始懂事  剛開始有感觸<br/>\\n', '在某種天分受到啟發剛開始嶄露的那個年紀<br/>\\n', '每天都試著跟妳聯繫<br/>\\n', '聽見妳聲音就能維持這種甜蜜<br/>\\n', '妳拉我走出深淵能夠繼續前進<br/>\\n', '我跟在妳的身後香味舒緩神經<br/>\\n', '<br/>\\n', '像妳所說的至理名言我都記住<br/>\\n', '像所托付的是我 不讓妳受欺負<br/>\\n', '像妳要我表現自我<br/>\\n', '赤裸表達赤裸 儘管字醜<br/>\\n', '也寫下過錯像自首 妳說是否<br/>\\n', '<br/>\\n', '多麼忘我 接近解脫<br/>\\n']\n"
     ]
    }
   ],
   "source": [
    "print(lyrics[:20])"
   ]
  },
  {
   "cell_type": "code",
   "execution_count": 5,
   "metadata": {},
   "outputs": [],
   "source": [
    "# re 正規表達\n",
    "# 中文（簡/繁體）在unicode中是u4e00~u9fa5\n",
    "import re\n",
    "\n",
    "final_lrc = []\n",
    "\n",
    "zhPattern = re.compile(u'[\\u4e00-\\u9fa5]+')\n",
    "\n",
    "# for所有歌詞\n",
    "for line in lyrics:\n",
    "   # findall會返回一個列表\n",
    "   zh_list = zhPattern.findall(line)\n",
    "   # 將中文拷貝到 final_lrc 中去\n",
    "   for item in zh_list:\n",
    "        final_lrc.append(item + '\\n')"
   ]
  },
  {
   "cell_type": "code",
   "execution_count": 6,
   "metadata": {},
   "outputs": [
    {
     "name": "stdout",
     "output_type": "stream",
     "text": [
      "['就像我告訴自己我很酷\\n', '又像我剛認識妳那時候\\n', '妳的笑沒忍住\\n', '也像我剛開始懂事\\n', '剛開始有感觸\\n', '在某種天分受到啟發剛開始嶄露的那個年紀\\n', '每天都試著跟妳聯繫\\n', '聽見妳聲音就能維持這種甜蜜\\n', '妳拉我走出深淵能夠繼續前進\\n', '我跟在妳的身後香味舒緩神經\\n']\n"
     ]
    }
   ],
   "source": [
    "# print final_lrc\n",
    "print(final_lrc[:10])"
   ]
  },
  {
   "cell_type": "code",
   "execution_count": 7,
   "metadata": {},
   "outputs": [
    {
     "name": "stdout",
     "output_type": "stream",
     "text": [
      "17133\n"
     ]
    }
   ],
   "source": [
    "# final_lrc 總歌詞行數\n",
    "print(len(final_lrc))"
   ]
  },
  {
   "cell_type": "code",
   "execution_count": 8,
   "metadata": {},
   "outputs": [
    {
     "name": "stderr",
     "output_type": "stream",
     "text": [
      "Building prefix dict from the default dictionary ...\n",
      "Loading model from cache /tmp/jieba.cache\n",
      "Loading model cost 0.568 seconds.\n",
      "Prefix dict has been built succesfully.\n"
     ]
    }
   ],
   "source": [
    "# 使用結巴分詞 \n",
    "# 分詞後會導致換行符號消失，因此在後來建立lrc_string時要用final_lrc當文本\n",
    "import jieba\n",
    "s=''\n",
    "for line in final_lrc:\n",
    "    s+='/'.join(jieba.cut(line))\n",
    "new_s=''\n",
    "for i in s:\n",
    "    if i != '\\n':\n",
    "        new_s+=i\n",
    "all_words=new_s.split('/')"
   ]
  },
  {
   "cell_type": "code",
   "execution_count": 9,
   "metadata": {},
   "outputs": [
    {
     "name": "stdout",
     "output_type": "stream",
     "text": [
      "['就', '像', '我', '告訴', '自己', '我', '很酷', '又', '像', '我剛']\n"
     ]
    }
   ],
   "source": [
    "print(all_words[:10])"
   ]
  },
  {
   "cell_type": "code",
   "execution_count": 10,
   "metadata": {},
   "outputs": [],
   "source": [
    "# 建立字典，保存所有字/詞，並且將之編號以便之後找字/詞用\n",
    "dictionary = {}\n",
    "\n",
    "# 先將all_words裡所有的字/詞放入字典\n",
    "# len(dictionary)為編號\n",
    "for word in all_words:\n",
    "    if word not in dictionary:\n",
    "        dictionary[word] = len(dictionary)\n",
    "        \n",
    "# 由於all_words為經過分詞後的list，當中可能喪失了一些原本有的字和換行符號\n",
    "# 因此在用final_lrc做一次，將新字放入字典（包括換行符號）\n",
    "for line in final_lrc:\n",
    "    for word in line:\n",
    "        if word not in dictionary:\n",
    "            dictionary[word] = len(dictionary)"
   ]
  },
  {
   "cell_type": "code",
   "execution_count": 11,
   "metadata": {},
   "outputs": [
    {
     "name": "stdout",
     "output_type": "stream",
     "text": [
      "就 : 0\n",
      "像 : 1\n",
      "我 : 2\n",
      "告訴 : 3\n",
      "自己 : 4\n",
      "很酷 : 5\n",
      "又 : 6\n",
      "我剛 : 7\n",
      "認識 : 8\n",
      "妳 : 9\n"
     ]
    }
   ],
   "source": [
    "# print dictionary前10個資料           \n",
    "for i, key in zip(range(10), dictionary):\n",
    "    print(key, \":\", dictionary[key])"
   ]
  },
  {
   "cell_type": "code",
   "execution_count": 12,
   "metadata": {},
   "outputs": [
    {
     "data": {
      "text/plain": [
       "11284"
      ]
     },
     "execution_count": 12,
     "metadata": {},
     "output_type": "execute_result"
    }
   ],
   "source": [
    "# 「式」這個字在字典裡的第11284裡面\n",
    "dictionary['式']"
   ]
  },
  {
   "cell_type": "code",
   "execution_count": 13,
   "metadata": {},
   "outputs": [
    {
     "name": "stdout",
     "output_type": "stream",
     "text": [
      "sorted_char_list:  [('就', 0), ('像', 1), ('我', 2), ('告訴', 3), ('自己', 4)] \n",
      "\n",
      "char_list:  ['就', '像', '我', '告訴', '自己', '很酷', '又', '我剛', '認識', '妳', '那', '時候', '的', '笑', '沒', '忍住', '也', '開始']\n"
     ]
    }
   ],
   "source": [
    "# 將字典排序後轉換成一個list\n",
    "# 建立char_list創造歌詞時，用來使用字/詞的來源\n",
    "# dictionary：用來查找字/詞，並將其中的編號作為之後tensor的字/詞向量\n",
    "# char_list：用來拿取字/詞，寫出之後的歌詞\n",
    "import operator\n",
    "\n",
    "sorted_char_list = sorted(dictionary.items(), key=operator.itemgetter(1), reverse=False)\n",
    "\n",
    "print(\"sorted_char_list: \", sorted_char_list[:5], '\\n')\n",
    "\n",
    "# item[0]是sorted_char_list裡的「字/詞」部分\n",
    "char_list = []\n",
    "for item in sorted_char_list:\n",
    "    char_list.append(item[0])\n",
    "    \n",
    "print(\"char_list: \", char_list[:18])"
   ]
  },
  {
   "cell_type": "code",
   "execution_count": 14,
   "metadata": {},
   "outputs": [
    {
     "name": "stdout",
     "output_type": "stream",
     "text": [
      "就 : 0\n",
      "像 : 1\n",
      "我 : 2\n",
      "告訴 : 3\n",
      "自己 : 4\n",
      "很酷 : 5\n",
      "又 : 6\n",
      "我剛 : 7\n",
      "認識 : 8\n",
      "妳 : 9\n",
      "\n",
      "\n",
      "就 : 0\n",
      "像 : 1\n",
      "我 : 2\n",
      "告訴 : 3\n",
      "自己 : 4\n",
      "很酷 : 5\n",
      "又 : 6\n",
      "我剛 : 7\n",
      "認識 : 8\n",
      "妳 : 9\n"
     ]
    }
   ],
   "source": [
    "# 確認char_list和dictionary裡面的字/詞是否順序一樣\n",
    "for ch in char_list[:10]:\n",
    "    print(ch, \":\", dictionary[ch])\n",
    "\n",
    "print('\\n')\n",
    "\n",
    "for i, key in zip(range(10), dictionary):\n",
    "    print(key, \":\", dictionary[key])"
   ]
  },
  {
   "cell_type": "code",
   "execution_count": 15,
   "metadata": {},
   "outputs": [
    {
     "name": "stdout",
     "output_type": "stream",
     "text": [
      "12699\n"
     ]
    }
   ],
   "source": [
    "# 建立n_characters，代表總共有幾個字/詞 （利用字典的長度）\n",
    "n_characters = len(dictionary)\n",
    "print(n_characters)"
   ]
  },
  {
   "cell_type": "code",
   "execution_count": 16,
   "metadata": {},
   "outputs": [
    {
     "name": "stdout",
     "output_type": "stream",
     "text": [
      "n_characters： 12699\n",
      "就 : 0\n",
      "像 : 1\n",
      "我 : 2\n",
      "告訴 : 3\n",
      "自己 : 4\n",
      "很酷 : 5\n",
      "又 : 6\n",
      "我剛 : 7\n",
      "認識 : 8\n",
      "妳 : 9\n"
     ]
    }
   ],
   "source": [
    "print(\"n_characters：\", n_characters)\n",
    "for i, key in zip(range(10), dictionary):\n",
    "    print(key, \":\", dictionary[key])"
   ]
  },
  {
   "cell_type": "code",
   "execution_count": 17,
   "metadata": {},
   "outputs": [],
   "source": [
    "# 建立lyc_string，將歌詞作為一個string，以便後面可以隨機擷取一段並訓練\n",
    "# 如上面所提，為了讓lrc_string有最原始的歌詞形式，因此使用final_lrc\n",
    "# 因為分詞後的all_words去除了換行，會造成之後模型訓練時不知道歌詞要換行\n",
    "lrc_string = ''\n",
    "for line in final_lrc:\n",
    "    for ch in line:\n",
    "        lrc_string += ch"
   ]
  },
  {
   "cell_type": "code",
   "execution_count": 18,
   "metadata": {},
   "outputs": [
    {
     "name": "stdout",
     "output_type": "stream",
     "text": [
      "就像我告訴自己我很酷\n",
      "又像我剛認識妳那時\n"
     ]
    }
   ],
   "source": [
    "# print lyc_string\n",
    "print(lrc_string[:20])"
   ]
  },
  {
   "cell_type": "code",
   "execution_count": 19,
   "metadata": {},
   "outputs": [
    {
     "name": "stdout",
     "output_type": "stream",
     "text": [
      "119963\n"
     ]
    }
   ],
   "source": [
    "# print 總歌詞字數\n",
    "print(len(lrc_string))"
   ]
  },
  {
   "cell_type": "code",
   "execution_count": 20,
   "metadata": {},
   "outputs": [],
   "source": [
    "# random_chunk()為隨機取樣某個範圍的歌詞，讓模型去學習\n",
    "import random\n",
    "\n",
    "# 設定取樣chunk_len個字\n",
    "chunk_len = 200\n",
    "\n",
    "def random_chunk():\n",
    "    # 設定取樣的歌詞起點，範圍：0 ~ (總歌詞數 - chunk_len)\n",
    "    start_index = random.randrange(0, len(lrc_string) - chunk_len)\n",
    "    # + 1為RNN模型之設計，為了讓輸入與輸出的字/詞數相同\n",
    "    end_index = start_index + chunk_len + 1\n",
    "    # 將取樣的列表項轉化為字串再返回\n",
    "    return lrc_string[start_index:end_index]"
   ]
  },
  {
   "cell_type": "code",
   "execution_count": 21,
   "metadata": {},
   "outputs": [
    {
     "name": "stdout",
     "output_type": "stream",
     "text": [
      "201 <class 'str'>\n"
     ]
    }
   ],
   "source": [
    "# test random_chunk()\n",
    "test = random_chunk() \n",
    "print(len(test), type(test))"
   ]
  },
  {
   "cell_type": "code",
   "execution_count": 22,
   "metadata": {},
   "outputs": [
    {
     "data": {
      "text/plain": [
       "'信用\\n有一天當你離開\\n這個家\\n將由我扛起\\n而當你離開\\n這個家\\n那年我十八\\n隔著門\\n我聽見你們最後一次吵架\\n還沒有意識到那是你最後一次踏出家門\\n不回家的人\\n還算不算是家人\\n你說\\n我們再聯絡\\n我們就\\n各過各生活\\n我們各有各的情緒要收拾\\n我們再聯絡\\n我們就\\n各過各生活\\n我們各有各的喜怒哀愁\\n大學的一個長假\\n媽\\n回美國的娘家\\n你把身邊事物\\n放下\\n終於回來\\n陪我兩個禮拜\\n想也奇怪\\n當你再\\n回到你的書房\\n好像你'"
      ]
     },
     "execution_count": 22,
     "metadata": {},
     "output_type": "execute_result"
    }
   ],
   "source": [
    "test"
   ]
  },
  {
   "cell_type": "code",
   "execution_count": 23,
   "metadata": {},
   "outputs": [
    {
     "name": "stdout",
     "output_type": "stream",
     "text": [
      "Training on GPU!\n"
     ]
    }
   ],
   "source": [
    "# 測試GPU是否有效\n",
    "import torch\n",
    "train_on_gpu = torch.cuda.is_available()\n",
    "if(train_on_gpu):\n",
    "    print('Training on GPU!')\n",
    "else: \n",
    "    print('CPU')"
   ]
  },
  {
   "cell_type": "code",
   "execution_count": 24,
   "metadata": {},
   "outputs": [],
   "source": [
    "# 建立char_tensor，將字典中的字/詞轉成tensor\n",
    "import torch\n",
    "import torch.nn as nn\n",
    "from torch.autograd import Variable\n",
    "\n",
    "def char_tensor(string):\n",
    "    # 建立longTensor，值設為0，長度為輸入的string長度\n",
    "    tensor = torch.zeros(len(string)).long()\n",
    "    \n",
    "    # 逐字查找字典\n",
    "    # 如上文所說，取出每個字的編號，保存到Tensor中\n",
    "    for c in range(len(string)):\n",
    "        tensor[c] = dictionary[string[c]]\n",
    "        \n",
    "    return Variable(tensor)"
   ]
  },
  {
   "cell_type": "code",
   "execution_count": 25,
   "metadata": {},
   "outputs": [
    {
     "name": "stdout",
     "output_type": "stream",
     "text": [
      "201\n"
     ]
    }
   ],
   "source": [
    "# 測試從random_chunk()隨機取字，做成tensor\n",
    "test_tensor = char_tensor(random_chunk())\n",
    "\n",
    "# 查看Tensor長度\n",
    "print(len(test_tensor))"
   ]
  },
  {
   "cell_type": "code",
   "execution_count": 26,
   "metadata": {},
   "outputs": [
    {
     "name": "stdout",
     "output_type": "stream",
     "text": [
      "tensor([   22,   231, 11361, 12101,   472,  1299,  3025,   502, 11206,    58,\n",
      "          228,   944,  3663,  1059,  1444,  6866, 11206,    58,  1957,   944,\n",
      "         2588, 11205,   159,   857, 11206,   306,  2368,    60,  9268,  5749,\n",
      "        11340, 11341, 11206,   107, 11239,   761,    57,  1955,   472,   857,\n",
      "          358, 11206,  3006,  2819,  5686,  9361,    58,   418,   480,   202,\n",
      "         1351,   214,  7166,  2663, 11206, 11481,  1351,  6860, 11282, 11560,\n",
      "         7166,  4069,   202,    12,   712,   214,  1150,    87,    31,   279,\n",
      "         2368,  2663, 11206,  3006,   944,   588,   944,  1851,    95,    16,\n",
      "           62,   292,   358,  2275,   266,  2368,    60, 11206,    10, 11283,\n",
      "         5198,  4483, 12293,  9269,    57,  1425,  8283,   858,   217, 11294,\n",
      "         3619, 12151, 11206,   202,   480,     2,  5838,    89,   269,  6989,\n",
      "        11206,     2,   480, 11237,  8465,  1036,   944, 11442, 11663, 11206,\n",
      "          480,    89,  2376,   722,  2425,  5642, 11206,   308,  2588, 11205,\n",
      "         1036,   944,   231,  8465,  4976,  6168, 11206,   297,   761,   202,\n",
      "          203,   497, 11206,  1351,  5042,  4483,    22,  1444,    72,   159,\n",
      "          231,  8420,  3118, 11206,  1425, 11234,    14,   315,   680,   231,\n",
      "         1351, 11256, 11206,  8464,  8465,   418,   192,   214,   130,   463,\n",
      "        11206,   202,    53,     2,  1036,    89, 11206,     2,  2515,    12,\n",
      "         1036,    89, 11206,  5028, 11497,  2324,  1897,  6727,  4603, 11206,\n",
      "        11419,   826, 11570, 11855, 11206, 11404,  6999,    57,     2,   418,\n",
      "           12])\n"
     ]
    }
   ],
   "source": [
    "# 查看Tensor中保存的編號\n",
    "print(test_tensor)"
   ]
  },
  {
   "cell_type": "code",
   "execution_count": 27,
   "metadata": {},
   "outputs": [],
   "source": [
    "# 建立\n",
    "def char_tensor2(string):\n",
    "\n",
    "    c = dictionary[string]\n",
    "    \n",
    "    tensor = torch.tensor([c])\n",
    "    \n",
    "    return Variable(tensor)"
   ]
  },
  {
   "cell_type": "code",
   "execution_count": 28,
   "metadata": {},
   "outputs": [
    {
     "name": "stdout",
     "output_type": "stream",
     "text": [
      "1\n",
      "tensor([10263])\n"
     ]
    }
   ],
   "source": [
    "# 測試\n",
    "test2_tensor = char_tensor2('漂到')\n",
    "print(len(test2_tensor))\n",
    "print(test2_tensor)"
   ]
  },
  {
   "cell_type": "code",
   "execution_count": 29,
   "metadata": {},
   "outputs": [],
   "source": [
    "# 建立random_training_set()，隨機訓練集\n",
    "def random_training_set():\n",
    "   \n",
    "    # 先選取201字符長度的文本\n",
    "    chunk = random_chunk()\n",
    "    \n",
    "    # 將取樣的文本轉為Tensor\n",
    "    # [:-1]從第一個值到倒數第二個值\n",
    "    inp = char_tensor(chunk[:-1]) \n",
    "    \n",
    "    # [1:]從第二個值到最後一個值\n",
    "    target = char_tensor(chunk[1:]) \n",
    "    \n",
    "    return inp, target"
   ]
  },
  {
   "cell_type": "code",
   "execution_count": 30,
   "metadata": {},
   "outputs": [
    {
     "name": "stdout",
     "output_type": "stream",
     "text": [
      "tensor([ 6279,    12,    10,   722,   826, 11212, 11206,  1268,  3663,    31,\n",
      "         3725,   320,    33,     9,    34,    35, 11206,   462,   463,     9,\n",
      "         1797,  8420,     0,   348, 11213,  6999,   231,  1897,  3901,  3970,\n",
      "        11206,     9,    41,     2,   315,   680,  3749, 11214,   348,  6003,\n",
      "        11215,  7000,  2124,  1614, 11206,     2,    33,    22,     9,    12,\n",
      "           47,    48,  3829, 11216, 11217,  4779,  2062,  5028, 11206,     1,\n",
      "            9,    52,    53,    12, 11218,  7090,  7418, 11219,     2,    31,\n",
      "         3006,  2819, 11206,     1,    52, 11220,  7419,    12,    57,     2,\n",
      "        11206,    58,    59,     9,    60, 11221,  3361, 11206,     1,     9,\n",
      "           62,     2, 11222,   217,  2588,     2, 11206, 11223, 11224, 11222,\n",
      "         3224, 11223, 11224, 11206,    67,    68,    69,    70, 11206,    16,\n",
      "           71,    72,   358,   857,     1,  2588, 11225, 11206,     9,    53,\n",
      "           57,   859, 11206,   213,  8465,   333,     2, 11206,  7099,  7784,\n",
      "        11226,  4734, 11206,   189,  8871, 11226,  1471,     2,    12,  4193,\n",
      "        11227,   213,  8465,  4230, 11051,  2164,  4069, 11206,    22,  2277,\n",
      "          472,  1471,  1722, 11206,    58,  8871,    59,    87,    88,    89,\n",
      "         7200,  6494, 11206,    91,   189,  2083,     9,    93,    94,    95,\n",
      "           59,     2,  1712,  1203,  7784,  2164,    53, 11206,  7784,  2164,\n",
      "           53, 11206,     0,   231,  6238,  1022,   722,   102,   103,   104,\n",
      "        11206,    33,     9,  1351,  6238,  1022,   722,   102,   103,   104]) \n",
      "\n",
      " tensor([   12,    10,   722,   826, 11212, 11206,  1268,  3663,    31,  3725,\n",
      "          320,    33,     9,    34,    35, 11206,   462,   463,     9,  1797,\n",
      "         8420,     0,   348, 11213,  6999,   231,  1897,  3901,  3970, 11206,\n",
      "            9,    41,     2,   315,   680,  3749, 11214,   348,  6003, 11215,\n",
      "         7000,  2124,  1614, 11206,     2,    33,    22,     9,    12,    47,\n",
      "           48,  3829, 11216, 11217,  4779,  2062,  5028, 11206,     1,     9,\n",
      "           52,    53,    12, 11218,  7090,  7418, 11219,     2,    31,  3006,\n",
      "         2819, 11206,     1,    52, 11220,  7419,    12,    57,     2, 11206,\n",
      "           58,    59,     9,    60, 11221,  3361, 11206,     1,     9,    62,\n",
      "            2, 11222,   217,  2588,     2, 11206, 11223, 11224, 11222,  3224,\n",
      "        11223, 11224, 11206,    67,    68,    69,    70, 11206,    16,    71,\n",
      "           72,   358,   857,     1,  2588, 11225, 11206,     9,    53,    57,\n",
      "          859, 11206,   213,  8465,   333,     2, 11206,  7099,  7784, 11226,\n",
      "         4734, 11206,   189,  8871, 11226,  1471,     2,    12,  4193, 11227,\n",
      "          213,  8465,  4230, 11051,  2164,  4069, 11206,    22,  2277,   472,\n",
      "         1471,  1722, 11206,    58,  8871,    59,    87,    88,    89,  7200,\n",
      "         6494, 11206,    91,   189,  2083,     9,    93,    94,    95,    59,\n",
      "            2,  1712,  1203,  7784,  2164,    53, 11206,  7784,  2164,    53,\n",
      "        11206,     0,   231,  6238,  1022,   722,   102,   103,   104, 11206,\n",
      "           33,     9,  1351,  6238,  1022,   722,   102,   103,   104, 11206])\n"
     ]
    }
   ],
   "source": [
    "# 測試，可以注意到，inp的第二個值 = target的第一個值，以此類推\n",
    "inp, target = random_training_set()\n",
    "print(inp, '\\n\\n', target)"
   ]
  },
  {
   "cell_type": "code",
   "execution_count": 31,
   "metadata": {},
   "outputs": [],
   "source": [
    "# 建立模型，在此使用GRU，為lstm的變形\n",
    "import torch\n",
    "import torch.nn as nn\n",
    "from torch.autograd import Variable\n",
    "class RNN(nn.Module):\n",
    "    def __init__(self, input_size, hidden_size, output_size, n_layers):\n",
    "        super(RNN, self).__init__()\n",
    "        self.input_size = input_size\n",
    "        self.hidden_size = hidden_size\n",
    "        self.output_size = output_size\n",
    "        self.n_layers = n_layers\n",
    "        # 編碼器\n",
    "        self.encoder = nn.Embedding(input_size, hidden_size) #把1個字變成100dim的表示方式\n",
    "        # GRU\n",
    "        self.gru = nn.GRU(hidden_size, hidden_size, n_layers) #1:words dim, 2:hidden_sizes,總共有幾dim 3:疊rnn層數，起初不對沒幫助\n",
    "        # 解碼器\n",
    "        self.decoder = nn.Linear(hidden_size, output_size)\n",
    "    def forward(self, input, hidden):\n",
    "        input = self.encoder(input.view(1, -1))\n",
    "        output, hidden = self.gru(input.view(1, 1, -1), hidden)\n",
    "        output = self.decoder(output.view(1, -1))\n",
    "        return output, hidden\n",
    "    def init_hidden(self):\n",
    "        return Variable(torch.zeros(self.n_layers, 1, self.hidden_size))"
   ]
  },
  {
   "cell_type": "code",
   "execution_count": 32,
   "metadata": {},
   "outputs": [],
   "source": [
    "n_epochs = 3500 # 迭代次數\n",
    "print_every = 500 # 每隔多少次迭代打印\n",
    "plot_every = 10 # 每個多少次迭代記錄圖表值\n",
    "hidden_size = 256 # 隱藏單元的數量\n",
    "n_layers = 2 # 隱藏層層數\n",
    "lr = 0.001 # 學習率\n",
    "# 設定RNN模型為decoder\n",
    "decoder = RNN(n_characters, hidden_size, n_characters, n_layers)\n",
    "# 使用Adam優化算法\n",
    "decoder_optimizer = torch.optim.Adam(decoder.parameters(), lr=lr)\n",
    "# 使用交叉熵損失\n",
    "criterion = nn.CrossEntropyLoss()"
   ]
  },
  {
   "cell_type": "code",
   "execution_count": 33,
   "metadata": {},
   "outputs": [],
   "source": [
    "if train_on_gpu:\n",
    "    decoder_gpu = decoder.cuda()"
   ]
  },
  {
   "cell_type": "code",
   "execution_count": 34,
   "metadata": {},
   "outputs": [],
   "source": [
    "# inp，訓練輸入數據，包含200個字\n",
    "# target，目標，包含200個字\n",
    "def train(inp, target):\n",
    "    # 將隱藏層置零\n",
    "    if train_on_gpu:\n",
    "        hidden = decoder_gpu.init_hidden()\n",
    "    else:\n",
    "        hidden = decoder.init_hidden()\n",
    "    # 將模型的梯度置零\n",
    "    decoder.zero_grad()\n",
    "    # 損失值初始化\n",
    "    loss = 0\n",
    "    # chunk_len是在上面定義的訓練數據及目標數據的長度\n",
    "    # 值為200\n",
    "    for c in range(chunk_len):\n",
    "        # 用RNN的forward函數，進行一次正向傳播\n",
    "        if train_on_gpu:\n",
    "            output, hidden = decoder_gpu(inp[c].cuda(), hidden.cuda())\n",
    "            loss += criterion(output, target[c].unsqueeze(0).cuda())\n",
    "        else:\n",
    "            output, hidden = decoder(inp[c], hidden)\n",
    "            loss += criterion(output, target[c].unsqueeze(0))\n",
    "        # 與目標值相比計算交叉熵損失\n",
    "    # 循環完200個字後進行一次反向傳播\n",
    "    loss.backward()\n",
    "    decoder_optimizer.step()\n",
    "    # 返回平均損失\n",
    "    return loss.item() / chunk_len"
   ]
  },
  {
   "cell_type": "code",
   "execution_count": 35,
   "metadata": {},
   "outputs": [],
   "source": [
    "# prime_str：可設定歌詞開頭的「字/詞」\n",
    "# predict_len：要預測多少個字，每次產生歌詞的長度\n",
    "# temperature：混亂度，越高代表句子相對複雜，但可能較不邏輯（依訓練好壞有差）\n",
    "def evaluate(prime_str='我的世界', predict_len=100, temperature=0.7):\n",
    "   \n",
    "    # 隱藏層置零\n",
    "    if train_on_gpu:\n",
    "        hidden = decoder_gpu.init_hidden()\n",
    "    else:\n",
    "        hidden =decoder.init_hidden()\n",
    "        \n",
    "    # 將我們給模型的「開頭」轉化為 Tensor\n",
    "    prime_input = char_tensor(prime_str)\n",
    "    \n",
    "    # predicted用來保存生成的嘻哈歌詞\n",
    "    predicted = prime_str\n",
    "    \n",
    "    # 首先，用我們給的「prime_str」運行模型的forward\n",
    "    # 也就是使用「prime_str」建立RNN隱藏層狀態\n",
    "    for p in range(len(prime_str) - 1):\n",
    "        if train_on_gpu:\n",
    "            _, hidden = decoder_gpu(prime_input[p].cuda(), hidden.cuda())\n",
    "        else:\n",
    "            _, hidden = decoder(prime_input[p], hidden)\n",
    "    \n",
    "    inp = prime_input[-1]\n",
    "\n",
    "    for p in range(predict_len):\n",
    "        \n",
    "        # 輸出以及隱藏層狀態\n",
    "        if train_on_gpu:\n",
    "            output, hidden = decoder_gpu(inp.cuda(), hidden.cuda())\n",
    "        else:\n",
    "            output, hidden = decoder(inp, hidden)\n",
    "\n",
    "#        print('inp.shape1', inp.shape, predict_len)\n",
    "        # 根據「混亂度」從輸出的多項式分布中採樣\n",
    "        output_dist = output.data.view(-1).div(temperature).exp()\n",
    "        \n",
    "#        print('inp.shape3', inp.shape, predict_len)\n",
    "        top_i = torch.multinomial(output_dist, 1)[0]\n",
    "    \n",
    "#        print('inp.shape4', inp.shape, predict_len, top_i)\n",
    "        # 將採樣的值轉化為文字\n",
    "        predicted_char = char_list[top_i]\n",
    "        \n",
    "#        print('inp.shape5', inp.shape, predicted_char)\n",
    "        # 將模型預測出的字加入到predicted中\n",
    "        predicted += predicted_char\n",
    "        \n",
    "#        print('inp.shape6', inp.shape, predicted, predicted_char)\n",
    "        # 下一次預測的「輸入」就是這次預測的輸出\n",
    "        inp = char_tensor2(predicted_char)\n",
    "        \n",
    "#        print('inp.shape7', inp.shape, char_tensor2(predicted_char))\n",
    "\n",
    "    return predicted\n"
   ]
  },
  {
   "cell_type": "code",
   "execution_count": 36,
   "metadata": {},
   "outputs": [],
   "source": [
    "# 用於計算訓練時間的函數\n",
    "import time, math\n",
    "\n",
    "def time_since(since):\n",
    "    s = time.time() - since\n",
    "    m = math.floor(s / 60)\n",
    "    s -= m * 60\n",
    "    return '%dm %ds' % (m, s)"
   ]
  },
  {
   "cell_type": "code",
   "execution_count": 37,
   "metadata": {},
   "outputs": [
    {
     "name": "stdout",
     "output_type": "stream",
     "text": [
      "[2m 58s (500 14%) 5.5190]\n",
      "我的世界走\n",
      "我們有我\n",
      "就我\n",
      "沒妹的要像在別\n",
      "我我你腔不\n",
      "只我曾我毒亂\n",
      "我你有妹沒他上色情\n",
      "辣子開\n",
      "拍\n",
      "起人的小到我\n",
      "\n",
      "我你不框家\n",
      "像我我\n",
      "你飛但無\n",
      "我點\n",
      "我們人\n",
      "你是我感生多\n",
      "我回以\n",
      "我的\n",
      "等酒傳妹\n",
      "這我的門 \n",
      "[5m 55s (1000 28%) 5.2358]\n",
      "我的世界鍊\n",
      "我不會怎麼下自己\n",
      "看你不管體喜歡著\n",
      "我也是能分\n",
      "一次你就是光了\n",
      "我的每弟\n",
      "不管誰\n",
      "我的小全了他\n",
      "一個\n",
      "一起歡\n",
      "這個人你才這個人\n",
      "我被滿無待\n",
      "我只會頭\n",
      "如果街麼喜會\n",
      "這個了\n",
      "我還是受世至\n",
      "我們們是果 \n",
      "[8m 52s (1500 42%) 5.0419]\n",
      "我的世界\n",
      "都在夢裡\n",
      "我可以你\n",
      "我可以表越的\n",
      "像個口日\n",
      "就跟著舞事\n",
      "想其領我的牌\n",
      "還是她說到我的心間\n",
      "大風理\n",
      "不管在上\n",
      "你的時候我的裡面\n",
      "我知道你的美天\n",
      "你想\n",
      "別說他幫你的\n",
      "我說我的話\n",
      "我們的人的\n",
      "十道的身邊\n",
      " \n",
      "[11m 49s (2000 57%) 3.2785]\n",
      "我的世界\n",
      "就算有什麼\n",
      "我就是\n",
      "我們一起面對\n",
      "又會再見了\n",
      "你想起了心\n",
      "拿著一起來自拍\n",
      "不管跟你的話\n",
      "你不懂我\n",
      "你怎麼可以不到\n",
      "你不好\n",
      "如果你可以一起來\n",
      "一個直到這個夢\n",
      "我們一起來\n",
      "我們不斷拍個月\n",
      "想要浪漫一下\n",
      " \n",
      "[14m 45s (2500 71%) 2.9146]\n",
      "我的世界\n",
      "沒有時是這麼好\n",
      "看\n",
      "有抽就有抽\n",
      "沒有這東西\n",
      "沒有這東西\n",
      "有時間會有抽就有抽\n",
      "從來沒有熱\n",
      "從來沒有煙霧淡\n",
      "押韻不斷\n",
      "把我迷航在\n",
      "最後一次等著\n",
      "你像是喔\n",
      "我們不能停停停走走\n",
      "停走走停停\n",
      "停停走停停\n",
      "停走 \n",
      "[17m 44s (3000 85%) 3.3968]\n",
      "我的世界\n",
      "有人啊\n",
      "這是我的\n",
      "也許自己\n",
      "最一石的故事\n",
      "用力又是一天\n",
      "再實就是一希\n",
      "來一個夜晚\n",
      "晚上除了煩惱\n",
      "專心在在哪裡\n",
      "都在脫瞰\n",
      "妳說我就是沒變\n",
      "就是沒變\n",
      "就是沒變\n",
      "就是沒有\n",
      "如果你想去哪間\n",
      "在哪裡遇見\n",
      "在哪 \n",
      "[20m 42s (3500 100%) 4.0738]\n",
      "我的世界才沒有因為一天\n",
      "我們知道我在尋找\n",
      "尊敬我的明天就要離開\n",
      "這個世界不如在這個世界變個世界上\n",
      "不要再想\n",
      "今晚怎樣\n",
      "不要再想\n",
      "今晚怎樣\n",
      "不容易還是有家\n",
      "在那裡面對太多\n",
      "怎麼還怨\n",
      "快樂一個梗\n",
      "不要再想\n",
      "今晚怎 \n"
     ]
    }
   ],
   "source": [
    "# 開始訓練！\n",
    "# start：開始計時\n",
    "# 計算loss\n",
    "start = time.time()\n",
    "all_losses = []\n",
    "loss_avg = 0\n",
    "for epoch in range(1, n_epochs + 1):\n",
    "    loss = train(*random_training_set())\n",
    "    loss_avg += loss\n",
    "\n",
    "    if epoch % print_every == 0:\n",
    "        print('[%s (%d %d%%) %.4f]' % (time_since(start), epoch, epoch / n_epochs * 100, loss))\n",
    "        print(evaluate('我的世界', 100), '')\n",
    "\n",
    "    if epoch % plot_every == 0:\n",
    "        all_losses.append(loss_avg / plot_every)\n",
    "        loss_avg = 0"
   ]
  },
  {
   "cell_type": "code",
   "execution_count": 38,
   "metadata": {},
   "outputs": [
    {
     "data": {
      "text/plain": [
       "[<matplotlib.lines.Line2D at 0x7f868a74c358>]"
      ]
     },
     "execution_count": 38,
     "metadata": {},
     "output_type": "execute_result"
    },
    {
     "data": {
      "image/png": "[encoded data removed]",
      "text/plain": [
       "<Figure size 432x288 with 1 Axes>"
      ]
     },
     "metadata": {
      "needs_background": "light"
     },
     "output_type": "display_data"
    }
   ],
   "source": [
    "import matplotlib.pyplot as plt \n",
    "import matplotlib.ticker as ticker \n",
    "%matplotlib inline \n",
    "plt.figure() \n",
    "plt.plot(all_losses)"
   ]
  },
  {
   "cell_type": "code",
   "execution_count": null,
   "metadata": {},
   "outputs": [],
   "source": []
  },
  {
   "cell_type": "code",
   "execution_count": null,
   "metadata": {},
   "outputs": [],
   "source": []
  },
  {
   "cell_type": "code",
   "execution_count": null,
   "metadata": {},
   "outputs": [],
   "source": []
  },
  {
   "cell_type": "code",
   "execution_count": null,
   "metadata": {},
   "outputs": [],
   "source": []
  },
  {
   "cell_type": "code",
   "execution_count": null,
   "metadata": {},
   "outputs": [],
   "source": []
  }
 ],
 "metadata": {
  "kernelspec": {
   "display_name": "Python 3",
   "language": "python",
   "name": "python3"
  },
  "language_info": {
   "codemirror_mode": {
    "name": "ipython",
    "version": 3
   },
   "file_extension": ".py",
   "mimetype": "text/x-python",
   "name": "python",
   "nbconvert_exporter": "python",
   "pygments_lexer": "ipython3",
   "version": "3.7.0"
  }
 },
 "nbformat": 4,
 "nbformat_minor": 2
}
